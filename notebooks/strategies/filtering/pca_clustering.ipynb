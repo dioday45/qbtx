{
 "cells": [
  {
   "cell_type": "markdown",
   "id": "07d3fd3a",
   "metadata": {},
   "source": [
    "# PCA Clustering of returns"
   ]
  },
  {
   "cell_type": "code",
   "execution_count": null,
   "id": "79066cd8",
   "metadata": {},
   "outputs": [],
   "source": []
  },
  {
   "cell_type": "markdown",
   "id": "1f1c2910",
   "metadata": {},
   "source": []
  }
 ],
 "metadata": {
  "language_info": {
   "name": "python"
  }
 },
 "nbformat": 4,
 "nbformat_minor": 5
}
